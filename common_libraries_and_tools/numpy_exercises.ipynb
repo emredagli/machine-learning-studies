{
 "cells": [
  {
   "cell_type": "markdown",
   "source": [
    "## NumPy Exercises\n",
    "The examples here are summarized from the book Python Machine Learning (Wei-Meng Lee)"
   ],
   "metadata": {
    "collapsed": false
   }
  },
  {
   "cell_type": "code",
   "execution_count": null,
   "outputs": [],
   "source": [
    "import numpy as np"
   ],
   "metadata": {
    "collapsed": false
   }
  },
  {
   "cell_type": "markdown",
   "source": [
    "### Creating NumPy Arrays"
   ],
   "metadata": {
    "collapsed": false
   }
  },
  {
   "cell_type": "code",
   "execution_count": null,
   "outputs": [],
   "source": [
    "a1 = np.arange(10) # [0 1 2 3 4 5 6 7 8 9]\n",
    "a1.shape # (10,)\n",
    "type(a1) # numpy.ndarray\n",
    "type(a1[0]) # numpy.int64\n",
    "len(a1) # 10\n",
    "\n",
    "a2 = np.arange(1,10,3) # [1 4 7]\n",
    "\n",
    "a3 = np.zeros(5) # [0. 0. 0. 0. 0.]\n",
    "\n",
    "a4 = np.zeros((2,3))\n",
    "# [[0. 0. 0.]\n",
    "#  [0. 0. 0.]]\n",
    "a4.shape # (2, 3)\n",
    "type(a4) # numpy.ndarray\n",
    "\n",
    "a5 = np.full((2,3), 8)\n",
    "# [[8 8 8]\n",
    "#  [8 8 8]]\n",
    "\n",
    "a6 = np.eye(3)\n",
    "# [[1. 0. 0.]\n",
    "#  [0. 1. 0.]\n",
    "#  [0. 0. 1.]]\n",
    "\n",
    "a7 = np.random.random((2,3))\n",
    "# [[0.34229659 0.16823129 0.46873795]\n",
    "#  [0.5016274  0.62467579 0.37549322]]\n",
    "\n",
    "list1 = [1,2,3,4]\n",
    "a8 = np.array(list1) # [1 2 3 4]\n",
    "type(list1) # list\n",
    "type(a8) # numpy.ndarray\n",
    "\n",
    "a9 = np.array([[1,2,3,4], [5,6,7,8]])\n",
    "# [[1 2 3 4]\n",
    "#  [5 6 7 8]]"
   ],
   "metadata": {
    "collapsed": false
   }
  },
  {
   "cell_type": "markdown",
   "source": [
    "### Array Indexing"
   ],
   "metadata": {
    "collapsed": false
   }
  },
  {
   "cell_type": "code",
   "execution_count": null,
   "outputs": [],
   "source": [
    "a1 = np.array([1,2,3,4])\n",
    "a1[0] # 1\n",
    "a1[1] # 2\n",
    "type(a1[0]) # numpy.int64\n",
    "\n",
    "a2 = np.full((2,3), 8)\n",
    "a2[0] # [8 8 8]\n",
    "a2[0,0] # 8\n",
    "a2[0][0] # 8\n",
    "type(a2[0]) # numpy.ndarray\n",
    "type(a2[0,0]) # numpy.float64\n",
    "\n",
    "a3 = np.array([[1,2,3,4], [5,6,7,8]])\n",
    "a3[0, [1,3]] # [2 4]\n",
    "a3[:, 0] # [1 5]\n",
    "type(a3[:, 0]) # numpy.ndarray"
   ],
   "metadata": {
    "collapsed": false
   }
  },
  {
   "cell_type": "markdown",
   "source": [
    "### Boolean Indexing"
   ],
   "metadata": {
    "collapsed": false
   }
  },
  {
   "cell_type": "code",
   "execution_count": null,
   "outputs": [],
   "source": [
    "a1 = np.array([1,2,3,4,5,6])\n",
    "a1>2 # [False False  True  True  True  True]\n",
    "a1[a1>2] # [3 4 5 6]\n",
    "\n",
    "even_nums = a1[a1 % 2 == 0] # [2 4 6]"
   ],
   "metadata": {
    "collapsed": false
   }
  },
  {
   "cell_type": "markdown",
   "source": [
    "### Slicing Arrays"
   ],
   "metadata": {
    "collapsed": false
   }
  },
  {
   "cell_type": "code",
   "execution_count": null,
   "outputs": [],
   "source": [
    "a1 = np.array([[1,2,3,4,5], [6,7,8,9,10], [11,12,13,14,15]])\n",
    "# [[ 1  2  3  4  5]\n",
    "#  [ 6  7  8  9 10]\n",
    "#  [11 12 13 14 15]]\n",
    "\n",
    "a1[0:2, :3] # select rows 0 to 2 (2 is not included), and first 3 columns\n",
    "# [[1 2 3]\n",
    "#  [6 7 8]]\n",
    "a1[-2:, :3] # select last 2 rows and first 3 columns\n",
    "# [[ 6  7  8]\n",
    "#  [11 12 13]]\n",
    "a1[:, :2] # select all rows and first 2 columns\n",
    "# [[ 1  2]\n",
    "#  [ 6  7]\n",
    "#  [11 12]]"
   ],
   "metadata": {
    "collapsed": false
   }
  },
  {
   "cell_type": "markdown",
   "source": [
    "### NumPy Slice is a Reference"
   ],
   "metadata": {
    "collapsed": false
   }
  },
  {
   "cell_type": "code",
   "execution_count": null,
   "outputs": [],
   "source": [
    "a1 = np.array([[1,2,3,4,5], [6,7,8,9,10], [11,12,13,14,15]])\n",
    "\n",
    "a2 = a1[2:, 2:] # select a subset, rows its index start from 2, and columns its index start from 2\n",
    "# [[13 14 15]]\n",
    "a2[0, 1] = 999\n",
    "\n",
    "a1 # Since the subset is a reference, changes affect the original value\n",
    "# [[  1   2   3   4   5]\n",
    "#  [  6   7   8   9  10]\n",
    "#  [ 11  12  13 999  15]]"
   ],
   "metadata": {
    "collapsed": false
   }
  },
  {
   "cell_type": "markdown",
   "source": [
    "### Reshaping Arrays"
   ],
   "metadata": {
    "collapsed": false
   }
  },
  {
   "cell_type": "code",
   "execution_count": null,
   "outputs": [],
   "source": [
    "a1 = np.array([[1,2,3,4,5], [6,7,8,9,10], [11,12,13,14,15]])\n",
    "a1.reshape((1, -1)) # [[ 1  2  3  4  5  6  7  8  9 10 11 12 13 14 15]]\n",
    "a1.reshape((-1, 1))\n",
    "# [[ 1]\n",
    "#  [ 2]\n",
    "#  [ 3]\n",
    "#  ...]\n",
    "a1.reshape((5, 3)) # same with a1.reshape((5, -1))\n",
    "# [[ 1  2  3]\n",
    "#  [ 4  5  6]\n",
    "#  [ 7  8  9]\n",
    "#  [10 11 12]\n",
    "#  [13 14 15]]\n",
    "a2 = a1.view() # Shallow copy (not a deep copy). Reshaping does not affect the copy.\n",
    "a1[0,0] = 99\n",
    "a1.shape = 1, -1 # \"shape\" property has set function. It reshapes itself.\n",
    "\n",
    "a1 # [[ 99  2  3  4  5  6  7  8  9 10 11 12 13 14 15]]\n",
    "a2\n",
    "# [[99  2  3  4  5]\n",
    "#  [ 6  7  8  9 10]\n",
    "#  [11 12 13 14 15]]"
   ],
   "metadata": {
    "collapsed": false
   }
  },
  {
   "cell_type": "markdown",
   "source": [
    "### Array Math"
   ],
   "metadata": {
    "collapsed": false
   }
  },
  {
   "cell_type": "code",
   "execution_count": null,
   "outputs": [],
   "source": [
    "a1 = np.array([[1,2,3],[4,5,6]])\n",
    "# [[1 2 3]\n",
    "#  [4 5 6]]\n",
    "a2 = np.array([[7,8,9],[10,11,12]])\n",
    "# [[ 7  8  9]\n",
    "#  [10 11 12]]\n",
    "\n",
    "a1 + a2 # Element-wise summation\n",
    "# [[ 8 10 12]\n",
    "#  [14 16 18]]\n",
    "a1 * a2 # Element-wise multiplication\n",
    "# [[ 7 16 27]\n",
    "#  [40 55 72]]"
   ],
   "metadata": {
    "collapsed": false
   }
  },
  {
   "cell_type": "markdown",
   "source": [
    "### Matrix"
   ],
   "metadata": {
    "collapsed": false
   }
  },
  {
   "cell_type": "code",
   "execution_count": null,
   "outputs": [],
   "source": [
    "a1 = np.array([[1,2,3],[4,5,6]])\n",
    "a2 = np.array([[1,2],[3,4],[5,6]])\n",
    "\n",
    "np.dot(a1, a2) # Matrix multiplication [2x3] x [3x2] = [2x2]\n",
    "# [[22 28]\n",
    "#  [49 64]]\n",
    "\n",
    "# matrix class is a subclass of ndarray. It is restricted to 2 dimensional array.\n",
    "m1 = np.matrix([[1,2,3],[4,5,6]])\n",
    "m2 = np.matrix([[1,2],[3,4],[5,6]])\n",
    "type(m1) # <class 'numpy.matrix'>\n",
    "m1 * m2 # Matrix multiplication\n",
    "# [[22 28]\n",
    "#  [49 64]]"
   ],
   "metadata": {
    "collapsed": false
   }
  },
  {
   "cell_type": "markdown",
   "source": [
    "### Cumulative Sum"
   ],
   "metadata": {
    "collapsed": false
   }
  },
  {
   "cell_type": "code",
   "execution_count": null,
   "outputs": [],
   "source": [
    "a1 = np.array([[1,2,3],[4,5,6], [7,8,9]])\n",
    "a1.cumsum()\n",
    "# [ 1  3  6 10 15 21 28 36 45]\n",
    "a1.cumsum(axis=0) # Column cumsum\n",
    "# [[ 1  2  3]\n",
    "#  [ 5  7  9]\n",
    "#  [12 15 18]]\n",
    "a1.cumsum(axis=1) # Row cumsum\n",
    "# [[ 1  3  6]\n",
    "#  [ 4  9 15]\n",
    "#  [ 7 15 24]]"
   ],
   "metadata": {
    "collapsed": false
   }
  },
  {
   "cell_type": "markdown",
   "source": [
    "### NumPy Sorting"
   ],
   "metadata": {
    "collapsed": false
   }
  },
  {
   "cell_type": "code",
   "execution_count": null,
   "outputs": [],
   "source": [
    "a1 = np.array([3,1,8,2,0,0,5])\n",
    "a2 = np.sort(a1) # a1 is not modified\n",
    "# [0 0 1 2 3 5 8]\n",
    "a1.sort() # a1 is now modified. sort function does not return anything\n",
    "\n",
    "a2 = np.array([12, 5, 14, 8, 6])\n",
    "indices = a2.argsort() # It returns the item indices for the sorted array\n",
    "# [1 4 3 0 2]\n",
    "a2[indices] # Returns a sorted array without modifying the original array\n",
    "# [ 5  6  8 12 14]\n",
    "a2[indices][::-1] # to get the reverse order, [::-1] can be used\n",
    "# [14 12  8  6  5]\n",
    "\n",
    "a3 = np.array([[3,7,2], [9,1,5]])\n",
    "s1 = np.sort(a3)\n",
    "# [[2 3 7]\n",
    "#  [1 5 9]]\n",
    "s2 = np.sort(a3, axis=0) # Sorts columns as we expected\n",
    "# [[3 1 2]\n",
    "#  [9 7 5]]"
   ],
   "metadata": {
    "collapsed": false
   }
  },
  {
   "cell_type": "markdown",
   "source": [
    "### Deep Copy"
   ],
   "metadata": {
    "collapsed": false
   }
  },
  {
   "cell_type": "code",
   "execution_count": null,
   "outputs": [],
   "source": [
    "list1 = [[3,7,2], [9,1,5]]\n",
    "a1 = np.array(list1)\n",
    "a2 = a1.copy()\n",
    "\n",
    "list1[0][0] = 99 # Does not affect or has side effect at all.\n",
    "a1[0][0] = 99 # Does not change a2 or list1\n",
    "a1\n",
    "# [[99  7  2]\n",
    "#  [ 9  1  5]]\n",
    "a2\n",
    "# [[3 7 2]\n",
    "#  [9 1 5]]"
   ],
   "metadata": {
    "collapsed": false
   }
  },
  {
   "cell_type": "code",
   "execution_count": null,
   "outputs": [],
   "source": [],
   "metadata": {
    "collapsed": false
   }
  }
 ],
 "metadata": {
  "kernelspec": {
   "display_name": "Python 3",
   "language": "python",
   "name": "python3"
  },
  "language_info": {
   "codemirror_mode": {
    "name": "ipython",
    "version": 2
   },
   "file_extension": ".py",
   "mimetype": "text/x-python",
   "name": "python",
   "nbconvert_exporter": "python",
   "pygments_lexer": "ipython2",
   "version": "2.7.6"
  }
 },
 "nbformat": 4,
 "nbformat_minor": 0
}
