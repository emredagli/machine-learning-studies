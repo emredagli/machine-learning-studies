{
 "cells": [
  {
   "cell_type": "code",
   "execution_count": 6,
   "id": "ef213e39-d6ce-40c2-87c5-b344fe76266e",
   "metadata": {},
   "outputs": [],
   "source": [
    "import xgboost as xgb\n",
    "from sklearn.metrics import mean_squared_error\n",
    "from sklearn.model_selection import train_test_split\n",
    "from sklearn.linear_model import LinearRegression\n",
    "\n",
    "import pandas as pd\n",
    "import numpy as np\n",
    "import matplotlib.pyplot as plt\n",
    "\n",
    "\n",
    "import scipy as sp\n",
    "import seaborn as sns\n",
    "from sklearn import metrics\n",
    "\n",
    "%matplotlib inline"
   ]
  },
  {
   "cell_type": "code",
   "execution_count": 7,
   "id": "6d18faed-2470-439b-aadf-1cff292b9cb4",
   "metadata": {},
   "outputs": [],
   "source": [
    "df = pd.read_csv(\"../../data/02_model/kc_house_data_cleaned_01.csv\");\n",
    "\n",
    "y = df.iloc[:, 0]\n",
    "X = df.iloc[:, 1:]"
   ]
  },
  {
   "cell_type": "code",
   "execution_count": 9,
   "id": "1f4c2d39-7224-494b-aea2-844bf9db76fd",
   "metadata": {},
   "outputs": [],
   "source": [
    "# Arastirmak lazim:\n",
    "# df['waterfront'] = df['waterfront'].astype('category',ordered=True)\n",
    "# df['view'] = df['view'].astype('category',ordered=True)\n",
    "# df['condition'] = df['condition'].astype('category',ordered=True)\n",
    "# df['grade'] = df['grade'].astype('category',ordered=False)\n",
    "# df['zipcode'] = df['zipcode'].astype('category',ordered=False)"
   ]
  },
  {
   "cell_type": "code",
   "execution_count": 21,
   "id": "f77c1c07-3034-4255-b657-16cc0b66406d",
   "metadata": {},
   "outputs": [
    {
     "data": {
      "text/html": [
       "<div>\n",
       "<style scoped>\n",
       "    .dataframe tbody tr th:only-of-type {\n",
       "        vertical-align: middle;\n",
       "    }\n",
       "\n",
       "    .dataframe tbody tr th {\n",
       "        vertical-align: top;\n",
       "    }\n",
       "\n",
       "    .dataframe thead th {\n",
       "        text-align: right;\n",
       "    }\n",
       "</style>\n",
       "<table border=\"1\" class=\"dataframe\">\n",
       "  <thead>\n",
       "    <tr style=\"text-align: right;\">\n",
       "      <th></th>\n",
       "      <th>bedrooms</th>\n",
       "      <th>bathrooms</th>\n",
       "      <th>sqft_living</th>\n",
       "      <th>sqft_lot</th>\n",
       "      <th>floors</th>\n",
       "      <th>waterfront</th>\n",
       "      <th>condition</th>\n",
       "      <th>grade</th>\n",
       "      <th>zipcode</th>\n",
       "      <th>lat</th>\n",
       "      <th>long</th>\n",
       "      <th>renovated</th>\n",
       "      <th>age_renovated</th>\n",
       "      <th>has_basement</th>\n",
       "    </tr>\n",
       "  </thead>\n",
       "  <tbody>\n",
       "    <tr>\n",
       "      <th>14825</th>\n",
       "      <td>4</td>\n",
       "      <td>2.0</td>\n",
       "      <td>7.635787</td>\n",
       "      <td>9.287394</td>\n",
       "      <td>2.0</td>\n",
       "      <td>0</td>\n",
       "      <td>3</td>\n",
       "      <td>7</td>\n",
       "      <td>98034</td>\n",
       "      <td>47.7264</td>\n",
       "      <td>-122.237</td>\n",
       "      <td>0</td>\n",
       "      <td>33</td>\n",
       "      <td>0</td>\n",
       "    </tr>\n",
       "  </tbody>\n",
       "</table>\n",
       "</div>"
      ],
      "text/plain": [
       "       bedrooms  bathrooms  sqft_living  sqft_lot  floors  waterfront  \\\n",
       "14825         4        2.0     7.635787  9.287394     2.0           0   \n",
       "\n",
       "       condition  grade  zipcode      lat     long  renovated  age_renovated  \\\n",
       "14825          3      7    98034  47.7264 -122.237          0             33   \n",
       "\n",
       "       has_basement  \n",
       "14825             0  "
      ]
     },
     "metadata": {},
     "output_type": "display_data"
    },
    {
     "data": {
      "text/plain": [
       "14825    12.899222\n",
       "Name: price, dtype: float64"
      ]
     },
     "metadata": {},
     "output_type": "display_data"
    }
   ],
   "source": [
    "X_train, X_test, y_train, y_test = train_test_split(X, y, test_size=0.25, random_state=123)\n",
    "display(X_train.head(1))\n",
    "display(y_train.head(1))"
   ]
  },
  {
   "cell_type": "code",
   "execution_count": 22,
   "id": "c26daeae-c51f-49e2-8de4-34ec66b5db90",
   "metadata": {},
   "outputs": [
    {
     "data": {
      "text/plain": [
       "LinearRegression()"
      ]
     },
     "execution_count": 22,
     "metadata": {},
     "output_type": "execute_result"
    }
   ],
   "source": [
    "reg=LinearRegression()\n",
    "reg.fit(X_train, y_train)"
   ]
  },
  {
   "cell_type": "code",
   "execution_count": 16,
   "id": "935de73a-f0c2-41fb-bc3d-1d5e001b8b22",
   "metadata": {},
   "outputs": [
    {
     "name": "stdout",
     "output_type": "stream",
     "text": [
      "Coefficients: \n",
      " [-3.69993605e-02  7.09636615e-02  4.24764098e-01 -6.98671106e-03\n",
      "  5.73529150e-02  6.01008590e-01  5.55654638e-02  1.93528011e-01\n",
      " -5.60567983e-04  1.35523056e+00 -2.34047424e-02  2.90311847e-01\n",
      "  4.11878955e-03  2.76469192e-02]\n"
     ]
    }
   ],
   "source": [
    "print('Coefficients: \\n', reg.coef_)"
   ]
  },
  {
   "cell_type": "code",
   "execution_count": 23,
   "id": "cb5f9f05-f398-403e-a8cd-dafebc4ad359",
   "metadata": {},
   "outputs": [
    {
     "name": "stdout",
     "output_type": "stream",
     "text": [
      "0.2620713276506187\n"
     ]
    }
   ],
   "source": [
    "print(np.sqrt(metrics.mean_squared_error(y_test, reg.predict(X_test))))"
   ]
  },
  {
   "cell_type": "code",
   "execution_count": 24,
   "id": "e9e66df7-3b40-43fa-854c-486f1b0627c7",
   "metadata": {},
   "outputs": [
    {
     "data": {
      "text/plain": [
       "0.7544210341623068"
      ]
     },
     "execution_count": 24,
     "metadata": {},
     "output_type": "execute_result"
    }
   ],
   "source": [
    "reg.score(X_test, y_test)"
   ]
  },
  {
   "cell_type": "code",
   "execution_count": null,
   "id": "2c5e05b3-bb61-4171-99c6-db959f08ca14",
   "metadata": {},
   "outputs": [],
   "source": []
  }
 ],
 "metadata": {
  "kernelspec": {
   "display_name": "3.9-real-estate-appraisal-ml-estimator",
   "language": "python",
   "name": "3.9-real-estate-appraisal-ml-estimator"
  },
  "language_info": {
   "codemirror_mode": {
    "name": "ipython",
    "version": 3
   },
   "file_extension": ".py",
   "mimetype": "text/x-python",
   "name": "python",
   "nbconvert_exporter": "python",
   "pygments_lexer": "ipython3",
   "version": "3.9.7"
  }
 },
 "nbformat": 4,
 "nbformat_minor": 5
}
